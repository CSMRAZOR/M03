{
 "cells": [
  {
   "cell_type": "code",
   "execution_count": 6,
   "id": "56abceb2-db1e-4b64-9d26-105eeba6a006",
   "metadata": {},
   "outputs": [
    {
     "name": "stdout",
     "output_type": "stream",
     "text": [
      "Here is the list after capitalizing the elements that refer to a person: ['mozzarella', 'Cinderella', 'salmonella']\n",
      "Here is the list after capitalizing the elements that are cheesy: ['Mozzarella', 'Cinderella', 'salmonella']\n",
      "Here is the last after getting rid of the disease: ['Mozzarella', 'Cinderella']\n"
     ]
    }
   ],
   "source": [
    "#Owen Mills 03/31/2024\n",
    "#M03 Programming Assignment - Lists and Functions \n",
    "\n",
    "#7.4 Create a list called things\n",
    "things = [\"mozzarella\", \"cinderella\", \"salmonella\"]\n",
    "\n",
    "#7.5 Capitalize the element that is a person\n",
    "for i in range(len(things)):\n",
    "    if things[i] == \"cinderella\":\n",
    "        things[i] = things[i].capitalize()\n",
    "        \n",
    "# Print the new list \n",
    "print(\"Here is the list after capitalizing the elements that refer to a person:\" ,things)\n",
    "\n",
    "#7.6 Capitalize the element that is cheesy\n",
    "for i in range(len(things)):\n",
    "    if things[i] == \"mozzarella\":\n",
    "        things[i] = things[i].capitalize()\n",
    "# Print the new list\n",
    "print(\"Here is the list after capitalizing the elements that are cheesy:\" ,things)\n",
    "\n",
    "#7.7 Delete the disease\n",
    "things.remove(\"salmonella\")\n",
    "\n",
    "# Print the new list\n",
    "print(\"Here is the last after getting rid of the disease:\", things)\n"
   ]
  },
  {
   "cell_type": "code",
   "execution_count": 12,
   "id": "d8f95632-8a5a-45d3-89d4-22234ae83bc0",
   "metadata": {},
   "outputs": [
    {
     "name": "stdout",
     "output_type": "stream",
     "text": [
      "The third generated odd number: 5\n"
     ]
    }
   ],
   "source": [
    "#Owen Mills 04/01/2024\n",
    "#M03 Programming Assignment - Lists and Functions \n",
    "\n",
    "#9.1 Define good()\n",
    "def good():\n",
    "    return['Harry', 'Ron', 'Hermione']\n",
    "\n",
    "#9.2 Define good_odds()\n",
    "def good_odds():\n",
    "    for number in range(10):\n",
    "        if number % 2 != 0:\n",
    "            yield number\n",
    "            \n",
    "# Count and print to the third odd number\n",
    "count = 0\n",
    "for odd_number in good_odds():\n",
    "    count += 1\n",
    "    if count == 3:\n",
    "\n",
    "# Print the third odd number        \n",
    "        print(\"The third generated odd number:\" ,odd_number,)\n",
    "    "
   ]
  },
  {
   "cell_type": "code",
   "execution_count": null,
   "id": "3eb57225-b677-4470-b8fe-80e23cd6eb2d",
   "metadata": {},
   "outputs": [],
   "source": []
  }
 ],
 "metadata": {
  "kernelspec": {
   "display_name": "Python 3 (ipykernel)",
   "language": "python",
   "name": "python3"
  },
  "language_info": {
   "codemirror_mode": {
    "name": "ipython",
    "version": 3
   },
   "file_extension": ".py",
   "mimetype": "text/x-python",
   "name": "python",
   "nbconvert_exporter": "python",
   "pygments_lexer": "ipython3",
   "version": "3.11.7"
  }
 },
 "nbformat": 4,
 "nbformat_minor": 5
}
